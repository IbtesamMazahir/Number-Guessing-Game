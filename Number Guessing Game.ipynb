{
 "cells": [
  {
   "cell_type": "code",
   "execution_count": 1,
   "id": "767e6749",
   "metadata": {},
   "outputs": [],
   "source": [
    "import tkinter as tk\n",
    "from tkinter import *\n",
    "\n",
    "win =tk.Tk()\n",
    "\n",
    "mylable=tk.Label(win,text=\"Guess the number 10\",bg=\"grey\")\n",
    "mylable.grid(row=1,column=1)\n",
    "\n",
    "def click_me1():\n",
    "    B1.configure(text=\"looser\")\n",
    "    mylable.configure(text=\"20\")\n",
    "    \n",
    "def click_me2():\n",
    "    B2.configure(text=\"looser\")\n",
    "    mylable.configure(text=\"30\")\n",
    "    \n",
    "    \n",
    "def click_me3():\n",
    "    B3.configure(text=\"winner\")\n",
    "    mylable.configure(text=\"10\")\n",
    "    \n",
    "    \n",
    "    \n",
    "def click_me4():\n",
    "    B4.configure(text=\"looser\")\n",
    "    mylable.configure(text=\"40\")\n",
    "    \n",
    "\n",
    "B1=Button(win,text=\"Guess 10\", bg=\"yellow\",font=('Dancing Script OT',14,'bold','italic'),underline=1)\n",
    "B1.grid(row=2,column=1)\n",
    "\n",
    "B2=Button(win,text=\"Guess 10\", bg=\"yellow\",command=click_me2)\n",
    "B2.grid(row=3,column=1)\n",
    "\n",
    "B3=Button(win,text=\"Guess 10\", bg=\"yellow\",command=click_me3)\n",
    "B3.grid(row=4,column=1)\n",
    "\n",
    "B4=Button(win,text=\"Guess 10\", bg=\"yellow\",command=click_me4)\n",
    "B4.grid(row=5,column=1)\n",
    "\n",
    "win.mainloop()"
   ]
  },
  {
   "cell_type": "code",
   "execution_count": null,
   "id": "d987145c",
   "metadata": {},
   "outputs": [],
   "source": []
  }
 ],
 "metadata": {
  "kernelspec": {
   "display_name": "Python 3 (ipykernel)",
   "language": "python",
   "name": "python3"
  },
  "language_info": {
   "codemirror_mode": {
    "name": "ipython",
    "version": 3
   },
   "file_extension": ".py",
   "mimetype": "text/x-python",
   "name": "python",
   "nbconvert_exporter": "python",
   "pygments_lexer": "ipython3",
   "version": "3.8.7"
  }
 },
 "nbformat": 4,
 "nbformat_minor": 5
}
